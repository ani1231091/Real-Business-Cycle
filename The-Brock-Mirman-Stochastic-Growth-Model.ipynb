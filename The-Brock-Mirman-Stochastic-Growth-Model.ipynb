{
 "cells": [
  {
   "cell_type": "code",
   "execution_count": 1,
   "metadata": {},
   "outputs": [],
   "source": [
    "#The Essentials\n",
    "\n",
    "import numpy as np\n",
    "import matplotlib.pyplot as plt\n",
    "%matplotlib inline\n",
    "from interpolation import interp\n",
    "from numba import njit, prange\n"
   ]
  },
  {
   "cell_type": "code",
   "execution_count": 9,
   "metadata": {},
   "outputs": [],
   "source": [
    "@njit\n",
    "def brent_max(func, a, b, args=(), xtol=1e-5, maxiter=500):\n",
    "    \"\"\"\n",
    "    Uses a jitted version of the maximization routine from SciPy's fminbound.\n",
    "    The algorithm is identical except that it's been switched to maximization\n",
    "    rather than minimization, and the tests for convergence have been stripped\n",
    "    out to allow for jit compilation.\n",
    "    Note that the input function `func` must be jitted or the call will fail.\n",
    "    Parameters\n",
    "    ----------\n",
    "    func : jitted function\n",
    "    a : scalar\n",
    "        Lower bound for search\n",
    "    b : scalar\n",
    "        Upper bound for search\n",
    "    args : tuple, optional\n",
    "        Extra arguments passed to the objective function.\n",
    "    maxiter : int, optional\n",
    "        Maximum number of iterations to perform.\n",
    "    xtol : float, optional\n",
    "        Absolute error in solution `xopt` acceptable for convergence.\n",
    "    Returns\n",
    "    -------\n",
    "    xf : float\n",
    "        The maximizer\n",
    "    fval : float\n",
    "        The maximum value attained\n",
    "    info : tuple\n",
    "        A tuple of the form (status_flag, num_iter).  Here status_flag\n",
    "        indicates whether or not the maximum number of function calls was\n",
    "        attained.  A value of 0 implies that the maximum was not hit.\n",
    "        The value `num_iter` is the number of function calls.\n",
    "    Example\n",
    "    -------\n",
    "    ```\n",
    "        @njit\n",
    "        def f(x):\n",
    "            return -(x + 2.0)**2 + 1.0\n",
    "        xf, fval, info = brent_max(f, -2, 2)\n",
    "    ```\n",
    "    \"\"\"\n",
    "    if not np.isfinite(a):\n",
    "        raise ValueError(\"a must be finite.\")\n",
    "\n",
    "    if not np.isfinite(b):\n",
    "        raise ValueError(\"b must be finite.\")\n",
    "\n",
    "    if not a < b:\n",
    "        raise ValueError(\"a must be less than b.\")\n",
    "\n",
    "    maxfun = maxiter\n",
    "    status_flag = 0\n",
    "\n",
    "    sqrt_eps = np.sqrt(2.2e-16)\n",
    "    golden_mean = 0.5 * (3.0 - np.sqrt(5.0))\n",
    "\n",
    "    fulc = a + golden_mean * (b - a)\n",
    "    nfc, xf = fulc, fulc\n",
    "    rat = e = 0.0\n",
    "    x = xf\n",
    "    fx = -func(x, *args)\n",
    "    num = 1\n",
    "\n",
    "    ffulc = fnfc = fx\n",
    "    xm = 0.5 * (a + b)\n",
    "    tol1 = sqrt_eps * np.abs(xf) + xtol / 3.0\n",
    "    tol2 = 2.0 * tol1\n",
    "\n",
    "    while (np.abs(xf - xm) > (tol2 - 0.5 * (b - a))):\n",
    "        golden = 1\n",
    "        # Check for parabolic fit\n",
    "        if np.abs(e) > tol1:\n",
    "            golden = 0\n",
    "            r = (xf - nfc) * (fx - ffulc)\n",
    "            q = (xf - fulc) * (fx - fnfc)\n",
    "            p = (xf - fulc) * q - (xf - nfc) * r\n",
    "            q = 2.0 * (q - r)\n",
    "            if q > 0.0:\n",
    "                p = -p\n",
    "            q = np.abs(q)\n",
    "            r = e\n",
    "            e = rat\n",
    "\n",
    "            # Check for acceptability of parabola\n",
    "            if ((np.abs(p) < np.abs(0.5*q*r)) and (p > q*(a - xf)) and\n",
    "                    (p < q * (b - xf))):\n",
    "                rat = (p + 0.0) / q\n",
    "                x = xf + rat\n",
    "\n",
    "                if ((x - a) < tol2) or ((b - x) < tol2):\n",
    "                    si = np.sign(xm - xf) + ((xm - xf) == 0)\n",
    "                    rat = tol1 * si\n",
    "            else:      # do a golden section step\n",
    "                golden = 1\n",
    "\n",
    "        if golden:  # Do a golden-section step\n",
    "            if xf >= xm:\n",
    "                e = a - xf\n",
    "            else:\n",
    "                e = b - xf\n",
    "            rat = golden_mean*e\n",
    "\n",
    "        if rat == 0:\n",
    "            si = np.sign(rat) + 1\n",
    "        else:\n",
    "            si = np.sign(rat)\n",
    "\n",
    "        x = xf + si * np.maximum(np.abs(rat), tol1)\n",
    "        fu = -func(x, *args)\n",
    "        num += 1\n",
    "\n",
    "        if fu <= fx:\n",
    "            if x >= xf:\n",
    "                a = xf\n",
    "            else:\n",
    "                b = xf\n",
    "            fulc, ffulc = nfc, fnfc\n",
    "            nfc, fnfc = xf, fx\n",
    "            xf, fx = x, fu\n",
    "        else:\n",
    "            if x < xf:\n",
    "                a = x\n",
    "            else:\n",
    "                b = x\n",
    "            if (fu <= fnfc) or (nfc == xf):\n",
    "                fulc, ffulc = nfc, fnfc\n",
    "                nfc, fnfc = x, fu\n",
    "            elif (fu <= ffulc) or (fulc == xf) or (fulc == nfc):\n",
    "                fulc, ffulc = x, fu\n",
    "\n",
    "        xm = 0.5 * (a + b)\n",
    "        tol1 = sqrt_eps * np.abs(xf) + xtol / 3.0\n",
    "        tol2 = 2.0 * tol1\n",
    "\n",
    "        if num >= maxfun:\n",
    "            status_flag = 1\n",
    "            break\n",
    "\n",
    "    fval = -fx\n",
    "    info = status_flag, num\n",
    "\n",
    "    return xf, fval, info"
   ]
  },
  {
   "cell_type": "code",
   "execution_count": 10,
   "metadata": {},
   "outputs": [],
   "source": [
    "# #White Noise\n",
    "# mean = 0\n",
    "# std = 1 \n",
    "# num_samples = 1\n",
    "# samples = np.random.normal(mean, std, size=num_samples)"
   ]
  },
  {
   "cell_type": "code",
   "execution_count": 29,
   "metadata": {},
   "outputs": [],
   "source": [
    "#Optimal Growth Model Class\n",
    "class OptimalGrowthModel:\n",
    "\n",
    "    def __init__(self,\n",
    "                 f,                # Production function\n",
    "                 u,                # Utility function\n",
    "                 β=0.96,           # Discount factor\n",
    "                 μ=0,\n",
    "                 s=0.1,\n",
    "                 gamma=0.5,\n",
    "                 grid_max=4,\n",
    "                 grid_size=200,\n",
    "                 shock_size=250):\n",
    "\n",
    "        self.β, self.μ, self.s = β, μ, s,gamma\n",
    "        self.f, self.u = f, u\n",
    "\n",
    "        self.y_grid = np.linspace(1e-5, grid_max, grid_size)       # Set up grid\n",
    "        self.shocks = np.random.randn(shock_size)  # Store shocks"
   ]
  },
  {
   "cell_type": "code",
   "execution_count": 31,
   "metadata": {},
   "outputs": [],
   "source": [
    "def operator_factory(og, parallel_flag=True):\n",
    "    \"\"\"\n",
    "    A function factory for building the Bellman operator, as well as\n",
    "    a function that computes greedy policies.\n",
    "    \n",
    "    Here og is an instance of OptimalGrowthModel.\n",
    "    \"\"\"\n",
    "\n",
    "    f, u, β = og.f, og.u, og.β\n",
    "    y_grid, shocks = og.y_grid, og.shocks\n",
    "\n",
    "    @njit\n",
    "    def objective(c, v, y):\n",
    "        \"\"\"\n",
    "        The right hand side of the Bellman equation\n",
    "        \"\"\"\n",
    "        # First turn v into a function via interpolation\n",
    "        v_func = lambda x: interp(y_grid, v, x)\n",
    "        return u(c) + β * np.mean(v_func(f(y - c) * shocks))\n",
    "\n",
    "    @njit(parallel=parallel_flag)\n",
    "    def T(v):\n",
    "        \"\"\"\n",
    "        The Bellman operator\n",
    "        \"\"\"\n",
    "        v_new = np.empty_like(v)\n",
    "        for i in prange(len(y_grid)):\n",
    "            y = y_grid[i]\n",
    "            # Solve for optimal v at y\n",
    "            v_max = brent_max(objective, 1e-10, y, args=(v, y))[1]  \n",
    "            v_new[i] = v_max\n",
    "        return v_new\n",
    "\n",
    "    @njit\n",
    "    def get_greedy(v):\n",
    "        \"\"\"\n",
    "        Computes the v-greedy policy of a given function v\n",
    "        \"\"\"\n",
    "        σ = np.empty_like(v)\n",
    "        for i in range(len(y_grid)):\n",
    "            y = y_grid[i]\n",
    "            # Solve for optimal c at y\n",
    "            c_max = brent_max(objective, 1e-10, y, args=(v, y))[0]  \n",
    "            σ[i] = c_max\n",
    "        return σ\n",
    "\n",
    "    return T, get_greedy"
   ]
  },
  {
   "cell_type": "code",
   "execution_count": 13,
   "metadata": {},
   "outputs": [],
   "source": [
    "# This needs work\n",
    "def σ_star(y, α, β,gamma):\n",
    "    \"\"\"\n",
    "    True optimal policy\n",
    "    \"\"\"\n",
    "    return ((1 - α * β)^(1/gamma)) * y\n",
    "\n",
    "def v_star(y, α, β, μ,gamma):\n",
    "    \"\"\"\n",
    "    True value function\n",
    "    \"\"\"\n",
    "    c1 = np.log(1 - α * β) / (1 - β)\n",
    "    c2 = (μ + α * np.log(α * β)) / (1 - α)\n",
    "    c3 = 1 / (1 - β)\n",
    "    c4 = 1 / (1 - α * β)\n",
    "    return c1 + c2 * (c3 - c4) + c4 * np.log(y)"
   ]
  },
  {
   "cell_type": "code",
   "execution_count": 14,
   "metadata": {},
   "outputs": [],
   "source": [
    "α = 0.4  # Production function parameter\n",
    "\n",
    "@njit\n",
    "def f(k):\n",
    "    \"\"\"\n",
    "    Cobb-Douglas production function\n",
    "    \"\"\"\n",
    "    return k**α"
   ]
  },
  {
   "cell_type": "code",
   "execution_count": 15,
   "metadata": {},
   "outputs": [],
   "source": [
    "og = OptimalGrowthModel(f=f, u=np.log)"
   ]
  },
  {
   "cell_type": "code",
   "execution_count": 16,
   "metadata": {},
   "outputs": [],
   "source": [
    "T, get_greedy = operator_factory(og)"
   ]
  },
  {
   "cell_type": "code",
   "execution_count": 17,
   "metadata": {},
   "outputs": [
    {
     "data": {
      "image/png": "[encoded data removed]",
      "text/plain": [
       "<Figure size 648x360 with 1 Axes>"
      ]
     },
     "metadata": {
      "needs_background": "light"
     },
     "output_type": "display_data"
    }
   ],
   "source": [
    "y_grid = og.y_grid\n",
    "β, μ = og.β, og.μ\n",
    "\n",
    "v_init = v_star(y_grid, α, β, μ)  # Start at the solution\n",
    "v = T(v_init)                     # Apply the Bellman operator once\n",
    "\n",
    "fig, ax = plt.subplots(figsize=(9, 5))\n",
    "ax.set_ylim(-35, -24)\n",
    "ax.plot(y_grid, v, lw=2, alpha=0.6, label='$Tv^*$')\n",
    "ax.plot(y_grid, v_init, lw=2, alpha=0.6, label='$v^*$')\n",
    "ax.legend()\n",
    "plt.show()"
   ]
  },
  {
   "cell_type": "code",
   "execution_count": 24,
   "metadata": {},
   "outputs": [
    {
     "data": {
      "image/png": "[encoded data removed]",
      "text/plain": [
       "<Figure size 648x432 with 1 Axes>"
      ]
     },
     "metadata": {
      "needs_background": "light"
     },
     "output_type": "display_data"
    }
   ],
   "source": [
    "v = 5 * np.log(y_grid)  # An initial condition\n",
    "n = 100\n",
    "\n",
    "fig, ax = plt.subplots(figsize=(9, 6))\n",
    "\n",
    "ax.plot(y_grid, v, color=plt.cm.jet(0),\n",
    "        lw=2, alpha=0.6, label='Initial condition')\n",
    "\n",
    "for i in range(n):\n",
    "    v = T(v)  # Apply the Bellman operator\n",
    "    ax.plot(y_grid, v, color=plt.cm.jet(i / n), lw=2, alpha=0.6)\n",
    "\n",
    "ax.plot(y_grid, v_star(y_grid, α, β, μ), 'k-', lw=2,\n",
    "        alpha=0.8, label='True value function')\n",
    "\n",
    "ax.legend()\n",
    "ax.set(ylim=(-40, 10), xlim=(np.min(y_grid), np.max(y_grid)))\n",
    "plt.show()"
   ]
  },
  {
   "cell_type": "code",
   "execution_count": 26,
   "metadata": {},
   "outputs": [
    {
     "name": "stdout",
     "output_type": "stream",
     "text": [
      "Error at iteration 25 is 4.412461313027279.\n",
      "Error at iteration 50 is 1.5902365704782824.\n",
      "Error at iteration 75 is 0.5731160390279797.\n",
      "Error at iteration 100 is 0.20654913884447978.\n",
      "Error at iteration 125 is 0.07443963150950594.\n",
      "Error at iteration 150 is 0.026827798800638902.\n",
      "Error at iteration 175 is 0.009668650608603002.\n",
      "Error at iteration 200 is 0.0034845499362745613.\n",
      "Error at iteration 225 is 0.0012558203572439197.\n",
      "Error at iteration 250 is 0.00045259353368010125.\n",
      "Error at iteration 275 is 0.00016311322406181716.\n",
      "\n",
      "Converged in 287 iterations.\n"
     ]
    },
    {
     "data": {
      "image/png": "[encoded data removed]",
      "text/plain": [
       "<Figure size 648x360 with 1 Axes>"
      ]
     },
     "metadata": {
      "needs_background": "light"
     },
     "output_type": "display_data"
    }
   ],
   "source": [
    "def solve_model(og,\n",
    "                use_parallel=True,\n",
    "                tol=1e-4, \n",
    "                max_iter=1000, \n",
    "                verbose=True,\n",
    "                print_skip=25): \n",
    "\n",
    "    T, _ = operator_factory(og, parallel_flag=use_parallel)\n",
    "\n",
    "    # Set up loop\n",
    "    v = np.log(og.y_grid)  # Initial condition\n",
    "    i = 0\n",
    "    error = tol + 1\n",
    "\n",
    "    while i < max_iter and error > tol:\n",
    "        v_new = T(v)\n",
    "        error = np.max(np.abs(v - v_new))\n",
    "        i += 1\n",
    "        if verbose and i % print_skip == 0:\n",
    "            print(f\"Error at iteration {i} is {error}.\")\n",
    "        v = v_new\n",
    "\n",
    "    if i == max_iter: \n",
    "        print(\"Failed to converge!\")\n",
    "\n",
    "    if verbose and i < max_iter:\n",
    "        print(f\"\\nConverged in {i} iterations.\")\n",
    "        \n",
    "    return v_new\n",
    "\n",
    "\n",
    "v_solution = solve_model(og)\n",
    "\n",
    "fig, ax = plt.subplots(figsize=(9, 5))\n",
    "\n",
    "ax.plot(y_grid, v_solution, lw=2, alpha=0.6,\n",
    "        label='Approximate value function')\n",
    "\n",
    "ax.plot(y_grid, v_star(y_grid, α, β, μ), lw=2,\n",
    "        alpha=0.6, label='True value function')\n",
    "\n",
    "ax.legend()\n",
    "ax.set_ylim(-35, -24)\n",
    "plt.show()"
   ]
  },
  {
   "cell_type": "code",
   "execution_count": 27,
   "metadata": {},
   "outputs": [
    {
     "data": {
      "image/png": "[encoded data removed]",
      "text/plain": [
       "<Figure size 648x360 with 1 Axes>"
      ]
     },
     "metadata": {
      "needs_background": "light"
     },
     "output_type": "display_data"
    }
   ],
   "source": [
    "fig, ax = plt.subplots(figsize=(9, 5))\n",
    "\n",
    "ax.plot(y_grid, get_greedy(v_solution), lw=2,\n",
    "        alpha=0.6, label='Approximate policy function')\n",
    "\n",
    "ax.plot(y_grid, σ_star(y_grid, α, β),\n",
    "        lw=2, alpha=0.6, label='True policy function')\n",
    "\n",
    "ax.legend()\n",
    "plt.show()"
   ]
  },
  {
   "cell_type": "code",
   "execution_count": null,
   "metadata": {},
   "outputs": [],
   "source": []
  }
 ],
 "metadata": {
  "kernelspec": {
   "display_name": "Python 3",
   "language": "python",
   "name": "python3"
  },
  "language_info": {
   "codemirror_mode": {
    "name": "ipython",
    "version": 3
   },
   "file_extension": ".py",
   "mimetype": "text/x-python",
   "name": "python",
   "nbconvert_exporter": "python",
   "pygments_lexer": "ipython3",
   "version": "3.7.1"
  }
 },
 "nbformat": 4,
 "nbformat_minor": 2
}
